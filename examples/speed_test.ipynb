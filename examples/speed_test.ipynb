{
 "cells": [
  {
   "cell_type": "markdown",
   "metadata": {},
   "source": [
    "Raccoon vs. Pandas speed test\n",
    "============================="
   ]
  },
  {
   "cell_type": "markdown",
   "metadata": {},
   "source": [
    "Setup pythonpath, import libraries and initialized DataFrame to store results"
   ]
  },
  {
   "cell_type": "code",
   "execution_count": 1,
   "metadata": {
    "collapsed": true
   },
   "outputs": [],
   "source": [
    "import sys\n",
    "sys.path.insert(1, \"c:\\\\RMBAries\\\\git\\\\raccoon\\\\\")\n",
    "\n",
    "from copy import deepcopy"
   ]
  },
  {
   "cell_type": "code",
   "execution_count": 2,
   "metadata": {
    "collapsed": false
   },
   "outputs": [],
   "source": [
    "import raccoon as rc\n",
    "import pandas as pd"
   ]
  },
  {
   "cell_type": "code",
   "execution_count": 3,
   "metadata": {
    "collapsed": true
   },
   "outputs": [],
   "source": [
    "results = rc.DataFrame(columns=['raccoon', 'pandas', 'ratio'], sorted=False)"
   ]
  },
  {
   "cell_type": "code",
   "execution_count": 4,
   "metadata": {
    "collapsed": false
   },
   "outputs": [],
   "source": [
    "def add_results(index):\n",
    "    results[index, 'raccoon'] = res_rc.best\n",
    "    results[index, 'pandas'] = res_pd.best\n",
    "    results[index, 'ratio'] = res_rc.best / res_pd.best"
   ]
  },
  {
   "cell_type": "markdown",
   "metadata": {},
   "source": [
    "Initialize 10,000 empty DataFrames\n",
    "---------------------------"
   ]
  },
  {
   "cell_type": "code",
   "execution_count": 5,
   "metadata": {
    "collapsed": true
   },
   "outputs": [],
   "source": [
    "def init_rc():\n",
    "    for x in range(10000):\n",
    "        df = rc.DataFrame()\n",
    "        \n",
    "def init_pd():\n",
    "    for x in range(10000):\n",
    "        df = pd.DataFrame()"
   ]
  },
  {
   "cell_type": "code",
   "execution_count": 6,
   "metadata": {
    "collapsed": false
   },
   "outputs": [
    {
     "name": "stdout",
     "output_type": "stream",
     "text": [
      "10 loops, best of 3: 83 ms per loop\n"
     ]
    }
   ],
   "source": [
    "res_rc = %timeit -o init_rc()"
   ]
  },
  {
   "cell_type": "code",
   "execution_count": 7,
   "metadata": {
    "collapsed": false
   },
   "outputs": [
    {
     "name": "stdout",
     "output_type": "stream",
     "text": [
      "1 loop, best of 3: 2.77 s per loop\n"
     ]
    }
   ],
   "source": [
    "res_pd = %timeit -o init_pd()"
   ]
  },
  {
   "cell_type": "code",
   "execution_count": 8,
   "metadata": {
    "collapsed": true
   },
   "outputs": [],
   "source": [
    "ratio = res_rc.best / res_pd.best"
   ]
  },
  {
   "cell_type": "code",
   "execution_count": 9,
   "metadata": {
    "collapsed": false
   },
   "outputs": [],
   "source": [
    "add_results('initialize empty')"
   ]
  },
  {
   "cell_type": "code",
   "execution_count": 10,
   "metadata": {
    "collapsed": false
   },
   "outputs": [
    {
     "name": "stdout",
     "output_type": "stream",
     "text": [
      "index               raccoon    pandas      ratio\n",
      "----------------  ---------  --------  ---------\n",
      "initialize empty  0.0829567   2.76704  0.0299803\n"
     ]
    }
   ],
   "source": [
    "results.print()"
   ]
  },
  {
   "cell_type": "markdown",
   "metadata": {},
   "source": [
    "Initialize 100 row X 100 col DataFrame()\n",
    "--------"
   ]
  },
  {
   "cell_type": "code",
   "execution_count": 11,
   "metadata": {
    "collapsed": false
   },
   "outputs": [],
   "source": [
    "data = dict()\n",
    "for x in range(100):\n",
    "    data['a' + str(x)] = list(range(100))"
   ]
  },
  {
   "cell_type": "code",
   "execution_count": 12,
   "metadata": {
    "collapsed": false
   },
   "outputs": [
    {
     "name": "stdout",
     "output_type": "stream",
     "text": [
      "1000 loops, best of 3: 1.56 ms per loop\n"
     ]
    }
   ],
   "source": [
    "res_rc = %timeit -o df=rc.DataFrame(data=data)"
   ]
  },
  {
   "cell_type": "code",
   "execution_count": 13,
   "metadata": {
    "collapsed": false
   },
   "outputs": [
    {
     "name": "stdout",
     "output_type": "stream",
     "text": [
      "100 loops, best of 3: 9.77 ms per loop\n"
     ]
    }
   ],
   "source": [
    "res_pd = %timeit -o df=pd.DataFrame(data=data)"
   ]
  },
  {
   "cell_type": "code",
   "execution_count": 14,
   "metadata": {
    "collapsed": true
   },
   "outputs": [],
   "source": [
    "add_results('initialize with matrix')"
   ]
  },
  {
   "cell_type": "code",
   "execution_count": 15,
   "metadata": {
    "collapsed": false
   },
   "outputs": [
    {
     "name": "stdout",
     "output_type": "stream",
     "text": [
      "index                      raccoon      pandas      ratio\n",
      "----------------------  ----------  ----------  ---------\n",
      "initialize empty        0.0829567   2.76704     0.0299803\n",
      "initialize with matrix  0.00155941  0.00977127  0.159591\n"
     ]
    }
   ],
   "source": [
    "results.print()"
   ]
  },
  {
   "cell_type": "markdown",
   "metadata": {},
   "source": [
    "Add 10,000 items in 1 column to empty DataFrame\n",
    "-------------"
   ]
  },
  {
   "cell_type": "code",
   "execution_count": 16,
   "metadata": {
    "collapsed": true
   },
   "outputs": [],
   "source": [
    "def one_col_add_rc():\n",
    "    df = rc.DataFrame()\n",
    "    for x in range(10000):\n",
    "        df.set(x, 'a', x)\n",
    "        \n",
    "def one_col_add_pd():\n",
    "    df = pd.DataFrame()\n",
    "    for x in range(10000):\n",
    "        df.at[x, 'a'] = x"
   ]
  },
  {
   "cell_type": "code",
   "execution_count": 17,
   "metadata": {
    "collapsed": false
   },
   "outputs": [
    {
     "name": "stdout",
     "output_type": "stream",
     "text": [
      "10 loops, best of 3: 53.9 ms per loop\n"
     ]
    }
   ],
   "source": [
    "res_rc = %timeit -o one_col_add_rc()"
   ]
  },
  {
   "cell_type": "code",
   "execution_count": 18,
   "metadata": {
    "collapsed": false
   },
   "outputs": [
    {
     "name": "stdout",
     "output_type": "stream",
     "text": [
      "1 loop, best of 3: 20 s per loop\n"
     ]
    }
   ],
   "source": [
    "res_pd = %timeit -o one_col_add_pd()"
   ]
  },
  {
   "cell_type": "code",
   "execution_count": 19,
   "metadata": {
    "collapsed": true
   },
   "outputs": [],
   "source": [
    "add_results('add rows one column')"
   ]
  },
  {
   "cell_type": "code",
   "execution_count": 20,
   "metadata": {
    "collapsed": false
   },
   "outputs": [
    {
     "name": "stdout",
     "output_type": "stream",
     "text": [
      "index                      raccoon       pandas       ratio\n",
      "----------------------  ----------  -----------  ----------\n",
      "initialize empty        0.0829567    2.76704     0.0299803\n",
      "initialize with matrix  0.00155941   0.00977127  0.159591\n",
      "add rows one column     0.0538965   19.9965      0.00269529\n"
     ]
    }
   ],
   "source": [
    "print(results)"
   ]
  },
  {
   "cell_type": "markdown",
   "metadata": {},
   "source": [
    "Add 100 rows of 100 columns to empty DataFrame\n",
    "----------"
   ]
  },
  {
   "cell_type": "code",
   "execution_count": 21,
   "metadata": {
    "collapsed": true
   },
   "outputs": [],
   "source": [
    "new_row = {('a' + str(x)): x for x in range(100)}\n",
    "columns = ['a' + str(x) for x in range(100)]\n",
    "\n",
    "def matrix_add_rc():\n",
    "    df = rc.DataFrame(columns=columns)\n",
    "    for x in range(100):\n",
    "        df.set(indexes=x, values=new_row)\n",
    "\n",
    "def matrix_add_pd():\n",
    "    df = pd.DataFrame(columns=columns)\n",
    "    for x in range(100):\n",
    "        df.loc[x] = new_row"
   ]
  },
  {
   "cell_type": "code",
   "execution_count": 22,
   "metadata": {
    "collapsed": false
   },
   "outputs": [
    {
     "name": "stdout",
     "output_type": "stream",
     "text": [
      "100 loops, best of 3: 8.05 ms per loop\n"
     ]
    }
   ],
   "source": [
    "res_rc = %timeit -o matrix_add_rc()"
   ]
  },
  {
   "cell_type": "code",
   "execution_count": 23,
   "metadata": {
    "collapsed": false
   },
   "outputs": [
    {
     "name": "stdout",
     "output_type": "stream",
     "text": [
      "1 loop, best of 3: 204 ms per loop\n"
     ]
    }
   ],
   "source": [
    "res_pd = %timeit -o matrix_add_pd()"
   ]
  },
  {
   "cell_type": "code",
   "execution_count": 24,
   "metadata": {
    "collapsed": true
   },
   "outputs": [],
   "source": [
    "add_results('add matrix')"
   ]
  },
  {
   "cell_type": "code",
   "execution_count": 25,
   "metadata": {
    "collapsed": false
   },
   "outputs": [
    {
     "name": "stdout",
     "output_type": "stream",
     "text": [
      "index                      raccoon       pandas       ratio\n",
      "----------------------  ----------  -----------  ----------\n",
      "initialize empty        0.0829567    2.76704     0.0299803\n",
      "initialize with matrix  0.00155941   0.00977127  0.159591\n",
      "add rows one column     0.0538965   19.9965      0.00269529\n",
      "add matrix              0.00805453   0.204356    0.0394142\n"
     ]
    }
   ],
   "source": [
    "print(results)"
   ]
  },
  {
   "cell_type": "markdown",
   "metadata": {},
   "source": [
    "Append 10x10 DataFrame 1000 times\n",
    "------"
   ]
  },
  {
   "cell_type": "code",
   "execution_count": 26,
   "metadata": {
    "collapsed": true
   },
   "outputs": [],
   "source": [
    "def append_rc():\n",
    "    grid = {'a' + str(x): [0, 1, 2, 3, 4, 5, 6, 7, 8, 9] for x in range(10)}\n",
    "    df = rc.DataFrame(data=deepcopy(grid), columns=list(grid.keys()))\n",
    "    for x in range(100):\n",
    "        index = [(y + 1) + (x + 1) * 10 for y in range(10)]\n",
    "        new_grid = deepcopy(grid)\n",
    "        new_df = rc.DataFrame(data=new_grid, columns=list(new_grid.keys()), index=index)\n",
    "        df.append(new_df)\n",
    "\n",
    "def append_pd():\n",
    "    grid = {'a' + str(x): [0, 1, 2, 3, 4, 5, 6, 7, 8, 9] for x in range(10)}\n",
    "    df = pd.DataFrame(data=grid, columns=list(grid.keys()))\n",
    "    for x in range(100):\n",
    "        index = [(y + 1) + (x + 1) * 10 for y in range(10)]\n",
    "        new_grid = deepcopy(grid)\n",
    "        new_df = pd.DataFrame(data=new_grid, columns=list(new_grid.keys()), index=index)\n",
    "        df = df.append(new_df)"
   ]
  },
  {
   "cell_type": "code",
   "execution_count": 27,
   "metadata": {
    "collapsed": false
   },
   "outputs": [
    {
     "name": "stdout",
     "output_type": "stream",
     "text": [
      "10 loops, best of 3: 68.4 ms per loop\n"
     ]
    }
   ],
   "source": [
    "res_rc = %timeit -o append_rc()"
   ]
  },
  {
   "cell_type": "code",
   "execution_count": 28,
   "metadata": {
    "collapsed": false
   },
   "outputs": [
    {
     "name": "stdout",
     "output_type": "stream",
     "text": [
      "1 loop, best of 3: 218 ms per loop\n"
     ]
    }
   ],
   "source": [
    "res_pd = %timeit -o append_pd()"
   ]
  },
  {
   "cell_type": "code",
   "execution_count": 29,
   "metadata": {
    "collapsed": true
   },
   "outputs": [],
   "source": [
    "add_results('append')"
   ]
  },
  {
   "cell_type": "code",
   "execution_count": 30,
   "metadata": {
    "collapsed": false
   },
   "outputs": [
    {
     "name": "stdout",
     "output_type": "stream",
     "text": [
      "index                      raccoon       pandas       ratio\n",
      "----------------------  ----------  -----------  ----------\n",
      "initialize empty        0.0829567    2.76704     0.0299803\n",
      "initialize with matrix  0.00155941   0.00977127  0.159591\n",
      "add rows one column     0.0538965   19.9965      0.00269529\n",
      "add matrix              0.00805453   0.204356    0.0394142\n",
      "append                  0.0683559    0.217914    0.313684\n"
     ]
    }
   ],
   "source": [
    "print(results)"
   ]
  },
  {
   "cell_type": "markdown",
   "metadata": {
    "collapsed": true
   },
   "source": [
    "Get\n",
    "---"
   ]
  },
  {
   "cell_type": "code",
   "execution_count": 31,
   "metadata": {
    "collapsed": false
   },
   "outputs": [],
   "source": [
    "# First create a 1000 row X 100 col matrix for the test. Index is [0...999]\n",
    "\n",
    "col = [x for x in range(1000)]\n",
    "grid = {'a' + str(x): col[:] for x in range(100)}\n",
    "\n",
    "df_rc = rc.DataFrame(data=grid, columns=sorted(grid.keys()))\n",
    "df_pd = pd.DataFrame(data=grid, columns=sorted(grid.keys()))"
   ]
  },
  {
   "cell_type": "code",
   "execution_count": 32,
   "metadata": {
    "collapsed": true
   },
   "outputs": [],
   "source": [
    "# get cell\n",
    "\n",
    "def rc_get_cell():\n",
    "    for c in df_rc.columns:\n",
    "        for r in df_rc.index:\n",
    "            x = df_rc.get(r, c)\n",
    "            \n",
    "def pd_get_cell():\n",
    "    for c in df_pd.columns:\n",
    "        for r in df_pd.index:\n",
    "            x = df_pd.at[r, c]"
   ]
  },
  {
   "cell_type": "code",
   "execution_count": 33,
   "metadata": {
    "collapsed": false
   },
   "outputs": [
    {
     "name": "stdout",
     "output_type": "stream",
     "text": [
      "1 loop, best of 3: 846 ms per loop\n"
     ]
    }
   ],
   "source": [
    "res_rc = %timeit -o rc_get_cell()"
   ]
  },
  {
   "cell_type": "code",
   "execution_count": 34,
   "metadata": {
    "collapsed": false
   },
   "outputs": [
    {
     "name": "stdout",
     "output_type": "stream",
     "text": [
      "1 loop, best of 3: 1.09 s per loop\n"
     ]
    }
   ],
   "source": [
    "res_pd = %timeit -o pd_get_cell()"
   ]
  },
  {
   "cell_type": "code",
   "execution_count": 35,
   "metadata": {
    "collapsed": false
   },
   "outputs": [],
   "source": [
    "add_results('get cell')"
   ]
  },
  {
   "cell_type": "code",
   "execution_count": 36,
   "metadata": {
    "collapsed": false
   },
   "outputs": [
    {
     "name": "stdout",
     "output_type": "stream",
     "text": [
      "index                      raccoon       pandas       ratio\n",
      "----------------------  ----------  -----------  ----------\n",
      "initialize empty        0.0829567    2.76704     0.0299803\n",
      "initialize with matrix  0.00155941   0.00977127  0.159591\n",
      "add rows one column     0.0538965   19.9965      0.00269529\n",
      "add matrix              0.00805453   0.204356    0.0394142\n",
      "append                  0.0683559    0.217914    0.313684\n",
      "get cell                0.846118     1.09187     0.774925\n"
     ]
    }
   ],
   "source": [
    "print(results)"
   ]
  },
  {
   "cell_type": "code",
   "execution_count": 37,
   "metadata": {
    "collapsed": true
   },
   "outputs": [],
   "source": [
    "# get column all index\n",
    "\n",
    "def get_column_all_rc():\n",
    "    for c in df_rc.columns:\n",
    "        x = df_rc.get(columns=c)\n",
    "        \n",
    "def get_column_all_pd():\n",
    "    for c in df_pd.columns:\n",
    "        x = df_pd[c]"
   ]
  },
  {
   "cell_type": "code",
   "execution_count": 38,
   "metadata": {
    "collapsed": false
   },
   "outputs": [
    {
     "name": "stdout",
     "output_type": "stream",
     "text": [
      "10 loops, best of 3: 43 ms per loop\n"
     ]
    }
   ],
   "source": [
    "res_rc = %timeit -o get_column_all_rc()"
   ]
  },
  {
   "cell_type": "code",
   "execution_count": 39,
   "metadata": {
    "collapsed": false
   },
   "outputs": [
    {
     "name": "stdout",
     "output_type": "stream",
     "text": [
      "1000 loops, best of 3: 382 µs per loop\n"
     ]
    }
   ],
   "source": [
    "res_pd = %timeit -o get_column_all_pd()"
   ]
  },
  {
   "cell_type": "code",
   "execution_count": 40,
   "metadata": {
    "collapsed": true
   },
   "outputs": [],
   "source": [
    "add_results('get column all index')"
   ]
  },
  {
   "cell_type": "code",
   "execution_count": 41,
   "metadata": {
    "collapsed": false
   },
   "outputs": [
    {
     "name": "stdout",
     "output_type": "stream",
     "text": [
      "index                      raccoon       pandas         ratio\n",
      "----------------------  ----------  -----------  ------------\n",
      "initialize empty        0.0829567    2.76704       0.0299803\n",
      "initialize with matrix  0.00155941   0.00977127    0.159591\n",
      "add rows one column     0.0538965   19.9965        0.00269529\n",
      "add matrix              0.00805453   0.204356      0.0394142\n",
      "append                  0.0683559    0.217914      0.313684\n",
      "get cell                0.846118     1.09187       0.774925\n",
      "get column all index    0.0429724    0.00038188  112.529\n"
     ]
    }
   ],
   "source": [
    "print(results)"
   ]
  },
  {
   "cell_type": "code",
   "execution_count": 42,
   "metadata": {
    "collapsed": false
   },
   "outputs": [],
   "source": [
    "# get subset of the index of the column\n",
    "\n",
    "def get_column_subset_rc():\n",
    "    for c in df_rc.columns:\n",
    "        for r in range(100):\n",
    "            rows = list(range(r*10, r*10 + 9))\n",
    "            x = df_rc.get(indexes=rows, columns=c)\n",
    "        \n",
    "def get_column_subset_pd():\n",
    "    for c in df_pd.columns:\n",
    "        for r in range(100):\n",
    "            rows = list(range(r*10, r*10 + 9))\n",
    "            x = df_pd.loc[rows, c]"
   ]
  },
  {
   "cell_type": "code",
   "execution_count": 43,
   "metadata": {
    "collapsed": false
   },
   "outputs": [
    {
     "name": "stdout",
     "output_type": "stream",
     "text": [
      "1 loop, best of 3: 720 ms per loop\n"
     ]
    }
   ],
   "source": [
    "res_rc = %timeit -o get_column_subset_rc()"
   ]
  },
  {
   "cell_type": "code",
   "execution_count": 44,
   "metadata": {
    "collapsed": false
   },
   "outputs": [
    {
     "name": "stdout",
     "output_type": "stream",
     "text": [
      "1 loop, best of 3: 6.86 s per loop\n"
     ]
    }
   ],
   "source": [
    "res_pd = %timeit -o get_column_subset_pd()"
   ]
  },
  {
   "cell_type": "code",
   "execution_count": 45,
   "metadata": {
    "collapsed": true
   },
   "outputs": [],
   "source": [
    "add_results('get column subset index')"
   ]
  },
  {
   "cell_type": "code",
   "execution_count": 46,
   "metadata": {
    "collapsed": false
   },
   "outputs": [
    {
     "name": "stdout",
     "output_type": "stream",
     "text": [
      "index                       raccoon       pandas         ratio\n",
      "-----------------------  ----------  -----------  ------------\n",
      "initialize empty         0.0829567    2.76704       0.0299803\n",
      "initialize with matrix   0.00155941   0.00977127    0.159591\n",
      "add rows one column      0.0538965   19.9965        0.00269529\n",
      "add matrix               0.00805453   0.204356      0.0394142\n",
      "append                   0.0683559    0.217914      0.313684\n",
      "get cell                 0.846118     1.09187       0.774925\n",
      "get column all index     0.0429724    0.00038188  112.529\n",
      "get column subset index  0.719855     6.86022       0.104932\n"
     ]
    }
   ],
   "source": [
    "print(results)"
   ]
  },
  {
   "cell_type": "code",
   "execution_count": 47,
   "metadata": {
    "collapsed": true
   },
   "outputs": [],
   "source": [
    "# get index all columns\n",
    "\n",
    "def get_index_all_rc():\n",
    "    for i in df_rc.index:\n",
    "        x = df_rc.get(indexes=i)\n",
    "        \n",
    "def get_index_all_pd():\n",
    "    for i in df_pd.index:\n",
    "        x = df_pd.loc[i]"
   ]
  },
  {
   "cell_type": "code",
   "execution_count": 48,
   "metadata": {
    "collapsed": false
   },
   "outputs": [
    {
     "name": "stdout",
     "output_type": "stream",
     "text": [
      "1 loop, best of 3: 794 ms per loop\n"
     ]
    }
   ],
   "source": [
    "res_rc = %timeit -o get_index_all_rc()"
   ]
  },
  {
   "cell_type": "code",
   "execution_count": 49,
   "metadata": {
    "collapsed": false
   },
   "outputs": [
    {
     "name": "stdout",
     "output_type": "stream",
     "text": [
      "1 loop, best of 3: 131 ms per loop\n"
     ]
    }
   ],
   "source": [
    "res_pd = %timeit -o get_index_all_pd()"
   ]
  },
  {
   "cell_type": "code",
   "execution_count": 50,
   "metadata": {
    "collapsed": true
   },
   "outputs": [],
   "source": [
    "add_results('get index all columns')"
   ]
  },
  {
   "cell_type": "code",
   "execution_count": 51,
   "metadata": {
    "collapsed": false
   },
   "outputs": [
    {
     "name": "stdout",
     "output_type": "stream",
     "text": [
      "index                       raccoon       pandas         ratio\n",
      "-----------------------  ----------  -----------  ------------\n",
      "initialize empty         0.0829567    2.76704       0.0299803\n",
      "initialize with matrix   0.00155941   0.00977127    0.159591\n",
      "add rows one column      0.0538965   19.9965        0.00269529\n",
      "add matrix               0.00805453   0.204356      0.0394142\n",
      "append                   0.0683559    0.217914      0.313684\n",
      "get cell                 0.846118     1.09187       0.774925\n",
      "get column all index     0.0429724    0.00038188  112.529\n",
      "get column subset index  0.719855     6.86022       0.104932\n",
      "get index all columns    0.794428     0.131263      6.05217\n"
     ]
    }
   ],
   "source": [
    "print(results)"
   ]
  },
  {
   "cell_type": "markdown",
   "metadata": {
    "collapsed": true
   },
   "source": [
    "Set\n",
    "---"
   ]
  },
  {
   "cell_type": "code",
   "execution_count": 52,
   "metadata": {
    "collapsed": true
   },
   "outputs": [],
   "source": [
    "# First create a 1000 row X 100 col matrix for the test. Index is [0...999]\n",
    "\n",
    "col = [x for x in range(1000)]\n",
    "grid = {'a' + str(x): col[:] for x in range(100)}\n",
    "\n",
    "df_rc = rc.DataFrame(data=grid, columns=sorted(grid.keys()))\n",
    "df_pd = pd.DataFrame(data=grid, columns=sorted(grid.keys()))"
   ]
  },
  {
   "cell_type": "code",
   "execution_count": 53,
   "metadata": {
    "collapsed": true
   },
   "outputs": [],
   "source": [
    "# set cell\n",
    "\n",
    "def rc_set_cell():\n",
    "    for c in df_rc.columns:\n",
    "        for r in df_rc.index:\n",
    "            df_rc.set(r, c, 99)\n",
    "            \n",
    "def pd_set_cell():\n",
    "    for c in df_pd.columns:\n",
    "        for r in df_pd.index:\n",
    "            df_pd.at[r, c] = 99"
   ]
  },
  {
   "cell_type": "code",
   "execution_count": 54,
   "metadata": {
    "collapsed": false
   },
   "outputs": [
    {
     "name": "stdout",
     "output_type": "stream",
     "text": [
      "1 loop, best of 3: 663 ms per loop\n"
     ]
    }
   ],
   "source": [
    "res_rc = %timeit -o rc_set_cell()"
   ]
  },
  {
   "cell_type": "code",
   "execution_count": 55,
   "metadata": {
    "collapsed": false
   },
   "outputs": [
    {
     "name": "stdout",
     "output_type": "stream",
     "text": [
      "1 loop, best of 3: 1.1 s per loop\n"
     ]
    }
   ],
   "source": [
    "res_pd = %timeit -o pd_set_cell()"
   ]
  },
  {
   "cell_type": "code",
   "execution_count": 56,
   "metadata": {
    "collapsed": true
   },
   "outputs": [],
   "source": [
    "add_results('set cell')"
   ]
  },
  {
   "cell_type": "code",
   "execution_count": 57,
   "metadata": {
    "collapsed": false
   },
   "outputs": [
    {
     "name": "stdout",
     "output_type": "stream",
     "text": [
      "index                       raccoon       pandas         ratio\n",
      "-----------------------  ----------  -----------  ------------\n",
      "initialize empty         0.0829567    2.76704       0.0299803\n",
      "initialize with matrix   0.00155941   0.00977127    0.159591\n",
      "add rows one column      0.0538965   19.9965        0.00269529\n",
      "add matrix               0.00805453   0.204356      0.0394142\n",
      "append                   0.0683559    0.217914      0.313684\n",
      "get cell                 0.846118     1.09187       0.774925\n",
      "get column all index     0.0429724    0.00038188  112.529\n",
      "get column subset index  0.719855     6.86022       0.104932\n",
      "get index all columns    0.794428     0.131263      6.05217\n",
      "set cell                 0.662594     1.10305       0.600692\n"
     ]
    }
   ],
   "source": [
    "print(results)"
   ]
  },
  {
   "cell_type": "code",
   "execution_count": 58,
   "metadata": {
    "collapsed": true
   },
   "outputs": [],
   "source": [
    "# set column all index\n",
    "\n",
    "def set_column_all_rc():\n",
    "    for c in df_rc.columns:\n",
    "        x = df_rc.set(columns=c, values=99)\n",
    "        \n",
    "def set_column_all_pd():\n",
    "    for c in df_pd.columns:\n",
    "        x = df_pd[c] = 99"
   ]
  },
  {
   "cell_type": "code",
   "execution_count": 59,
   "metadata": {
    "collapsed": false
   },
   "outputs": [
    {
     "name": "stdout",
     "output_type": "stream",
     "text": [
      "100 loops, best of 3: 5.17 ms per loop\n"
     ]
    }
   ],
   "source": [
    "res_rc = %timeit -o set_column_all_rc()"
   ]
  },
  {
   "cell_type": "code",
   "execution_count": 60,
   "metadata": {
    "collapsed": false
   },
   "outputs": [
    {
     "name": "stdout",
     "output_type": "stream",
     "text": [
      "100 loops, best of 3: 15.7 ms per loop\n"
     ]
    }
   ],
   "source": [
    "res_pd = %timeit -o set_column_all_pd()"
   ]
  },
  {
   "cell_type": "code",
   "execution_count": 61,
   "metadata": {
    "collapsed": true
   },
   "outputs": [],
   "source": [
    "add_results('set column all index')"
   ]
  },
  {
   "cell_type": "code",
   "execution_count": 62,
   "metadata": {
    "collapsed": false
   },
   "outputs": [
    {
     "name": "stdout",
     "output_type": "stream",
     "text": [
      "index                       raccoon       pandas         ratio\n",
      "-----------------------  ----------  -----------  ------------\n",
      "initialize empty         0.0829567    2.76704       0.0299803\n",
      "initialize with matrix   0.00155941   0.00977127    0.159591\n",
      "add rows one column      0.0538965   19.9965        0.00269529\n",
      "add matrix               0.00805453   0.204356      0.0394142\n",
      "append                   0.0683559    0.217914      0.313684\n",
      "get cell                 0.846118     1.09187       0.774925\n",
      "get column all index     0.0429724    0.00038188  112.529\n",
      "get column subset index  0.719855     6.86022       0.104932\n",
      "get index all columns    0.794428     0.131263      6.05217\n",
      "set cell                 0.662594     1.10305       0.600692\n",
      "set column all index     0.00516976   0.0156922     0.329448\n"
     ]
    }
   ],
   "source": [
    "print(results)"
   ]
  },
  {
   "cell_type": "code",
   "execution_count": 63,
   "metadata": {
    "collapsed": false
   },
   "outputs": [],
   "source": [
    "# set subset of the index of the column\n",
    "\n",
    "def set_column_subset_rc():\n",
    "    for c in df_rc.columns:\n",
    "        for r in range(100):\n",
    "            rows = list(range(r*10, r*10 + 10))\n",
    "            x = df_rc.set(indexes=rows, columns=c, values=list(range(10)))\n",
    "        \n",
    "def set_column_subset_pd():\n",
    "    for c in df_pd.columns:\n",
    "        for r in range(100):\n",
    "            rows = list(range(r*10, r*10 + 10))\n",
    "            x = df_pd.loc[rows, c] = list(range(10))"
   ]
  },
  {
   "cell_type": "code",
   "execution_count": 64,
   "metadata": {
    "collapsed": false
   },
   "outputs": [
    {
     "name": "stdout",
     "output_type": "stream",
     "text": [
      "1 loop, best of 3: 515 ms per loop\n"
     ]
    }
   ],
   "source": [
    "res_rc = %timeit -o set_column_subset_rc()"
   ]
  },
  {
   "cell_type": "code",
   "execution_count": 65,
   "metadata": {
    "collapsed": false
   },
   "outputs": [
    {
     "name": "stdout",
     "output_type": "stream",
     "text": [
      "1 loop, best of 3: 24.8 s per loop\n"
     ]
    }
   ],
   "source": [
    "res_pd = %timeit -o set_column_subset_pd()"
   ]
  },
  {
   "cell_type": "code",
   "execution_count": 66,
   "metadata": {
    "collapsed": true
   },
   "outputs": [],
   "source": [
    "add_results('set column subset index')"
   ]
  },
  {
   "cell_type": "code",
   "execution_count": 67,
   "metadata": {
    "collapsed": false
   },
   "outputs": [
    {
     "name": "stdout",
     "output_type": "stream",
     "text": [
      "index                       raccoon       pandas         ratio\n",
      "-----------------------  ----------  -----------  ------------\n",
      "initialize empty         0.0829567    2.76704       0.0299803\n",
      "initialize with matrix   0.00155941   0.00977127    0.159591\n",
      "add rows one column      0.0538965   19.9965        0.00269529\n",
      "add matrix               0.00805453   0.204356      0.0394142\n",
      "append                   0.0683559    0.217914      0.313684\n",
      "get cell                 0.846118     1.09187       0.774925\n",
      "get column all index     0.0429724    0.00038188  112.529\n",
      "get column subset index  0.719855     6.86022       0.104932\n",
      "get index all columns    0.794428     0.131263      6.05217\n",
      "set cell                 0.662594     1.10305       0.600692\n",
      "set column all index     0.00516976   0.0156922     0.329448\n",
      "set column subset index  0.515115    24.7612        0.0208033\n"
     ]
    }
   ],
   "source": [
    "print(results)"
   ]
  },
  {
   "cell_type": "code",
   "execution_count": 68,
   "metadata": {
    "collapsed": false
   },
   "outputs": [],
   "source": [
    "row = {x:x for x in grid.keys()}"
   ]
  },
  {
   "cell_type": "code",
   "execution_count": 69,
   "metadata": {
    "collapsed": false
   },
   "outputs": [],
   "source": [
    "# set index all columns\n",
    "\n",
    "def set_index_all_rc():\n",
    "    for i in df_rc.index:\n",
    "        x = df_rc.set(indexes=i, values=row)\n",
    "        \n",
    "def set_index_all_pd():\n",
    "    for i in df_pd.index:\n",
    "        x = df_pd.loc[i] = row"
   ]
  },
  {
   "cell_type": "code",
   "execution_count": 70,
   "metadata": {
    "collapsed": false
   },
   "outputs": [
    {
     "name": "stdout",
     "output_type": "stream",
     "text": [
      "10 loops, best of 3: 60.3 ms per loop\n"
     ]
    }
   ],
   "source": [
    "res_rc = %timeit -o set_index_all_rc()"
   ]
  },
  {
   "cell_type": "code",
   "execution_count": 71,
   "metadata": {
    "collapsed": false
   },
   "outputs": [
    {
     "name": "stdout",
     "output_type": "stream",
     "text": [
      "1 loop, best of 3: 546 ms per loop\n"
     ]
    }
   ],
   "source": [
    "res_pd = %timeit -o set_index_all_pd()"
   ]
  },
  {
   "cell_type": "code",
   "execution_count": 72,
   "metadata": {
    "collapsed": true
   },
   "outputs": [],
   "source": [
    "add_results('set index all columns')"
   ]
  },
  {
   "cell_type": "code",
   "execution_count": 73,
   "metadata": {
    "collapsed": false
   },
   "outputs": [
    {
     "name": "stdout",
     "output_type": "stream",
     "text": [
      "index                       raccoon       pandas         ratio\n",
      "-----------------------  ----------  -----------  ------------\n",
      "initialize empty         0.0829567    2.76704       0.0299803\n",
      "initialize with matrix   0.00155941   0.00977127    0.159591\n",
      "add rows one column      0.0538965   19.9965        0.00269529\n",
      "add matrix               0.00805453   0.204356      0.0394142\n",
      "append                   0.0683559    0.217914      0.313684\n",
      "get cell                 0.846118     1.09187       0.774925\n",
      "get column all index     0.0429724    0.00038188  112.529\n",
      "get column subset index  0.719855     6.86022       0.104932\n",
      "get index all columns    0.794428     0.131263      6.05217\n",
      "set cell                 0.662594     1.10305       0.600692\n",
      "set column all index     0.00516976   0.0156922     0.329448\n",
      "set column subset index  0.515115    24.7612        0.0208033\n",
      "set index all columns    0.0603223    0.546263      0.110427\n"
     ]
    }
   ],
   "source": [
    "print(results)"
   ]
  },
  {
   "cell_type": "markdown",
   "metadata": {},
   "source": [
    "Sort\n",
    "-----"
   ]
  },
  {
   "cell_type": "code",
   "execution_count": 74,
   "metadata": {
    "collapsed": false
   },
   "outputs": [],
   "source": [
    "# make a dataframe 1000x100 with index in reverse order\n",
    "\n",
    "rev = list(reversed(range(1000)))\n",
    "\n",
    "df_rc = rc.DataFrame(data=grid, index=rev)\n",
    "df_pd = pd.DataFrame(grid, index=rev)"
   ]
  },
  {
   "cell_type": "code",
   "execution_count": 75,
   "metadata": {
    "collapsed": false
   },
   "outputs": [
    {
     "name": "stdout",
     "output_type": "stream",
     "text": [
      "100 loops, best of 3: 13 ms per loop\n"
     ]
    }
   ],
   "source": [
    "res_rc = %timeit -o df_rc.sort_index() "
   ]
  },
  {
   "cell_type": "code",
   "execution_count": 76,
   "metadata": {
    "collapsed": false
   },
   "outputs": [
    {
     "name": "stdout",
     "output_type": "stream",
     "text": [
      "The slowest run took 9.80 times longer than the fastest. This could mean that an intermediate result is being cached.\n",
      "1000 loops, best of 3: 816 µs per loop\n"
     ]
    }
   ],
   "source": [
    "res_pd = %timeit -o df_pd.sort_index()"
   ]
  },
  {
   "cell_type": "code",
   "execution_count": 77,
   "metadata": {
    "collapsed": true
   },
   "outputs": [],
   "source": [
    "add_results('sort index')"
   ]
  },
  {
   "cell_type": "code",
   "execution_count": 78,
   "metadata": {
    "collapsed": false
   },
   "outputs": [
    {
     "name": "stdout",
     "output_type": "stream",
     "text": [
      "index                       raccoon        pandas         ratio\n",
      "-----------------------  ----------  ------------  ------------\n",
      "initialize empty         0.0829567    2.76704        0.0299803\n",
      "initialize with matrix   0.00155941   0.00977127     0.159591\n",
      "add rows one column      0.0538965   19.9965         0.00269529\n",
      "add matrix               0.00805453   0.204356       0.0394142\n",
      "append                   0.0683559    0.217914       0.313684\n",
      "get cell                 0.846118     1.09187        0.774925\n",
      "get column all index     0.0429724    0.00038188   112.529\n",
      "get column subset index  0.719855     6.86022        0.104932\n",
      "get index all columns    0.794428     0.131263       6.05217\n",
      "set cell                 0.662594     1.10305        0.600692\n",
      "set column all index     0.00516976   0.0156922      0.329448\n",
      "set column subset index  0.515115    24.7612         0.0208033\n",
      "set index all columns    0.0603223    0.546263       0.110427\n",
      "sort index               0.0129654    0.000815632   15.8961\n"
     ]
    }
   ],
   "source": [
    "print(results)"
   ]
  }
 ],
 "metadata": {
  "kernelspec": {
   "display_name": "Python 3",
   "language": "python",
   "name": "python3"
  },
  "language_info": {
   "codemirror_mode": {
    "name": "ipython",
    "version": 3
   },
   "file_extension": ".py",
   "mimetype": "text/x-python",
   "name": "python",
   "nbconvert_exporter": "python",
   "pygments_lexer": "ipython3",
   "version": "3.4.5"
  }
 },
 "nbformat": 4,
 "nbformat_minor": 0
}
