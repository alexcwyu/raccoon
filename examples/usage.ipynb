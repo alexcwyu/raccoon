{
 "cells": [
  {
   "cell_type": "markdown",
   "metadata": {},
   "source": [
    "Example Usage for Raccoon\n",
    "========================"
   ]
  },
  {
   "cell_type": "code",
   "execution_count": 2,
   "metadata": {
    "collapsed": false
   },
   "outputs": [],
   "source": [
    "# import libraries\n",
    "import sys\n",
    "sys.path.append(\"..\")\n",
    "import raccoon as rc"
   ]
  },
  {
   "cell_type": "markdown",
   "metadata": {},
   "source": [
    "Initialize\n",
    "----------"
   ]
  },
  {
   "cell_type": "code",
   "execution_count": 3,
   "metadata": {
    "collapsed": false
   },
   "outputs": [
    {
     "data": {
      "text/plain": [
       "object id: 48079760\n",
       "columns:\n",
       "blist([])\n",
       "data:\n",
       "blist([])\n",
       "index:\n",
       "blist([])"
      ]
     },
     "execution_count": 3,
     "metadata": {},
     "output_type": "execute_result"
    }
   ],
   "source": [
    "# empty DataFrame\n",
    "df = rc.DataFrame()\n",
    "df"
   ]
  },
  {
   "cell_type": "code",
   "execution_count": 4,
   "metadata": {
    "collapsed": false
   },
   "outputs": [
    {
     "data": {
      "text/plain": [
       "object id: 48579376\n",
       "columns:\n",
       "blist(['a', 'b', 'c'])\n",
       "data:\n",
       "blist([blist([None, None, None]), blist([None, None, None]), blist([None, None, None])])\n",
       "index:\n",
       "blist([1, 2, 3])"
      ]
     },
     "execution_count": 4,
     "metadata": {},
     "output_type": "execute_result"
    }
   ],
   "source": [
    "# with columns and indexes but no data\n",
    "df = rc.DataFrame(columns=['a', 'b', 'c'], index=[1, 2, 3])\n",
    "df"
   ]
  },
  {
   "cell_type": "code",
   "execution_count": 5,
   "metadata": {
    "collapsed": false
   },
   "outputs": [
    {
     "data": {
      "text/plain": [
       "object id: 48579888\n",
       "columns:\n",
       "blist(['a', 'b'])\n",
       "data:\n",
       "blist([blist([1, 2, 3]), blist([4, 5, 6])])\n",
       "index:\n",
       "blist([10, 11, 12])"
      ]
     },
     "execution_count": 5,
     "metadata": {},
     "output_type": "execute_result"
    }
   ],
   "source": [
    "# with data\n",
    "df = rc.DataFrame(data={'a': [1, 2, 3], 'b': [4, 5, 6]}, index=[10, 11, 12], columns=['a', 'b'])\n",
    "df"
   ]
  },
  {
   "cell_type": "markdown",
   "metadata": {},
   "source": [
    "Print\n",
    "-----"
   ]
  },
  {
   "cell_type": "code",
   "execution_count": 6,
   "metadata": {
    "collapsed": false
   },
   "outputs": [
    {
     "name": "stdout",
     "output_type": "stream",
     "text": [
      "  index    a    b\n",
      "-------  ---  ---\n",
      "     10    1    4\n",
      "     11    2    5\n",
      "     12    3    6\n"
     ]
    }
   ],
   "source": [
    "df.print()"
   ]
  },
  {
   "cell_type": "markdown",
   "metadata": {},
   "source": [
    "Setters and Getters\n",
    "-------------------"
   ]
  },
  {
   "cell_type": "code",
   "execution_count": 7,
   "metadata": {
    "collapsed": false
   },
   "outputs": [
    {
     "data": {
      "text/plain": [
       "blist(['a', 'b'])"
      ]
     },
     "execution_count": 7,
     "metadata": {},
     "output_type": "execute_result"
    }
   ],
   "source": [
    "# columns\n",
    "df.columns"
   ]
  },
  {
   "cell_type": "code",
   "execution_count": 8,
   "metadata": {
    "collapsed": false
   },
   "outputs": [
    {
     "name": "stdout",
     "output_type": "stream",
     "text": [
      "  index    first    second\n",
      "-------  -------  --------\n",
      "     10        1         4\n",
      "     11        2         5\n",
      "     12        3         6\n"
     ]
    }
   ],
   "source": [
    "df.columns = ['first', 'second']\n",
    "print(df)"
   ]
  },
  {
   "cell_type": "code",
   "execution_count": 9,
   "metadata": {
    "collapsed": false
   },
   "outputs": [
    {
     "data": {
      "text/plain": [
       "blist(['a', 'b'])"
      ]
     },
     "execution_count": 9,
     "metadata": {},
     "output_type": "execute_result"
    }
   ],
   "source": [
    "# columns can be renamed with a dict()\n",
    "df.rename_columns({'second': 'b', 'first': 'a'})\n",
    "df.columns"
   ]
  },
  {
   "cell_type": "code",
   "execution_count": 10,
   "metadata": {
    "collapsed": false
   },
   "outputs": [
    {
     "data": {
      "text/plain": [
       "blist([10, 11, 12])"
      ]
     },
     "execution_count": 10,
     "metadata": {},
     "output_type": "execute_result"
    }
   ],
   "source": [
    "# index\n",
    "df.index"
   ]
  },
  {
   "cell_type": "code",
   "execution_count": 11,
   "metadata": {
    "collapsed": false
   },
   "outputs": [
    {
     "name": "stdout",
     "output_type": "stream",
     "text": [
      "index      a    b\n",
      "-------  ---  ---\n",
      "apple      1    4\n",
      "pear       2    5\n",
      "7.7        3    6\n"
     ]
    }
   ],
   "source": [
    "#indexes can be any non-repeating unique values\n",
    "df.index = ['apple', 'pear', 7.7]\n",
    "df.print()"
   ]
  },
  {
   "cell_type": "code",
   "execution_count": 12,
   "metadata": {
    "collapsed": true
   },
   "outputs": [],
   "source": [
    "df.index = [10, 11, 12]"
   ]
  },
  {
   "cell_type": "code",
   "execution_count": 13,
   "metadata": {
    "collapsed": false
   },
   "outputs": [
    {
     "data": {
      "text/plain": [
       "'index'"
      ]
     },
     "execution_count": 13,
     "metadata": {},
     "output_type": "execute_result"
    }
   ],
   "source": [
    "# the index can also have a name, befault it is \"index\"\n",
    "df.index_name"
   ]
  },
  {
   "cell_type": "code",
   "execution_count": 14,
   "metadata": {
    "collapsed": false
   },
   "outputs": [
    {
     "data": {
      "text/plain": [
       "'units'"
      ]
     },
     "execution_count": 14,
     "metadata": {},
     "output_type": "execute_result"
    }
   ],
   "source": [
    "df.index_name = 'units'\n",
    "df.index_name"
   ]
  },
  {
   "cell_type": "code",
   "execution_count": 15,
   "metadata": {
    "collapsed": false
   },
   "outputs": [
    {
     "data": {
      "text/plain": [
       "blist([blist([1, 2, 3]), blist([4, 5, 6])])"
      ]
     },
     "execution_count": 15,
     "metadata": {},
     "output_type": "execute_result"
    }
   ],
   "source": [
    "# data is a shallow copy, be careful on how this is used\n",
    "df.index_name = 'index'\n",
    "df.data"
   ]
  },
  {
   "cell_type": "markdown",
   "metadata": {},
   "source": [
    "Select Index\n",
    "------------"
   ]
  },
  {
   "cell_type": "code",
   "execution_count": 16,
   "metadata": {
    "collapsed": false
   },
   "outputs": [
    {
     "data": {
      "text/plain": [
       "[False, True, False]"
      ]
     },
     "execution_count": 16,
     "metadata": {},
     "output_type": "execute_result"
    }
   ],
   "source": [
    "df.select_index(11)"
   ]
  },
  {
   "cell_type": "markdown",
   "metadata": {},
   "source": [
    "Set Values\n",
    "----------"
   ]
  },
  {
   "cell_type": "code",
   "execution_count": 17,
   "metadata": {
    "collapsed": false
   },
   "outputs": [
    {
     "name": "stdout",
     "output_type": "stream",
     "text": [
      "  index    a    b\n",
      "-------  ---  ---\n",
      "     10  100    4\n",
      "     11    2    5\n",
      "     12    3    6\n"
     ]
    }
   ],
   "source": [
    "# set a single cell\n",
    "df.set(10, 'a', 100)\n",
    "df.print()"
   ]
  },
  {
   "cell_type": "code",
   "execution_count": 18,
   "metadata": {
    "collapsed": false
   },
   "outputs": [
    {
     "name": "stdout",
     "output_type": "stream",
     "text": [
      "  index    a    b    c\n",
      "-------  ---  ---  ---\n",
      "     10  100    4\n",
      "     11    2    5\n",
      "     12    3    6\n",
      "     13              9\n"
     ]
    }
   ],
   "source": [
    "# set a value outside current range creates a new row and/or column. Can also use [] for setting\n",
    "df[13, 'c'] = 9\n",
    "df.print()"
   ]
  },
  {
   "cell_type": "code",
   "execution_count": 19,
   "metadata": {
    "collapsed": false
   },
   "outputs": [
    {
     "name": "stdout",
     "output_type": "stream",
     "text": [
      "  index    a    b    c\n",
      "-------  ---  ---  ---\n",
      "     10  100   55\n",
      "     11    2   55\n",
      "     12    3   55\n",
      "     13        55    9\n"
     ]
    }
   ],
   "source": [
    "# set column\n",
    "df['b'] = 55\n",
    "df.print()"
   ]
  },
  {
   "cell_type": "code",
   "execution_count": 20,
   "metadata": {
    "collapsed": false
   },
   "outputs": [
    {
     "name": "stdout",
     "output_type": "stream",
     "text": [
      "  index    a    b    c\n",
      "-------  ---  ---  ---\n",
      "     10  100   66\n",
      "     11    2   55\n",
      "     12    3   66\n",
      "     13        55    9\n"
     ]
    }
   ],
   "source": [
    "# set a subset of column\n",
    "df[[10, 12], 'b'] = 66\n",
    "print(df)"
   ]
  },
  {
   "cell_type": "code",
   "execution_count": 21,
   "metadata": {
    "collapsed": false
   },
   "outputs": [
    {
     "name": "stdout",
     "output_type": "stream",
     "text": [
      "  index    a    b    c\n",
      "-------  ---  ---  ---\n",
      "     10  100   88\n",
      "     11    2   55\n",
      "     12    3   99\n",
      "     13        55    9\n"
     ]
    }
   ],
   "source": [
    "# using boolean list\n",
    "df.set([True, False, True, False], 'b', [88, 99])\n",
    "print(df)"
   ]
  },
  {
   "cell_type": "code",
   "execution_count": 22,
   "metadata": {
    "collapsed": false
   },
   "outputs": [
    {
     "name": "stdout",
     "output_type": "stream",
     "text": [
      "  index    a    b    c\n",
      "-------  ---  ---  ---\n",
      "     10  100   88\n",
      "     11    2   55\n",
      "     12   33   99\n",
      "     13   33   55    9\n"
     ]
    }
   ],
   "source": [
    "# setting with slices\n",
    "df[12:13, 'a'] = 33\n",
    "print(df)"
   ]
  },
  {
   "cell_type": "code",
   "execution_count": 23,
   "metadata": {
    "collapsed": false
   },
   "outputs": [
    {
     "name": "stdout",
     "output_type": "stream",
     "text": [
      "  index    a    b    c\n",
      "-------  ---  ---  ---\n",
      "     10  100   88    1\n",
      "     11    2   55    2\n",
      "     12   33   99    3\n",
      "     13   33   55    9\n"
     ]
    }
   ],
   "source": [
    "df[10:12, 'c'] = [1, 2, 3]\n",
    "print(df)"
   ]
  },
  {
   "cell_type": "markdown",
   "metadata": {},
   "source": [
    "Get Values\n",
    "----------"
   ]
  },
  {
   "cell_type": "code",
   "execution_count": 24,
   "metadata": {
    "collapsed": false
   },
   "outputs": [
    {
     "data": {
      "text/plain": [
       "100"
      ]
     },
     "execution_count": 24,
     "metadata": {},
     "output_type": "execute_result"
    }
   ],
   "source": [
    "# get a single cell\n",
    "df[10, 'a']"
   ]
  },
  {
   "cell_type": "code",
   "execution_count": 25,
   "metadata": {
    "collapsed": false
   },
   "outputs": [
    {
     "name": "stdout",
     "output_type": "stream",
     "text": [
      "  index    c\n",
      "-------  ---\n",
      "     10    1\n",
      "     11    2\n",
      "     12    3\n",
      "     13    9\n"
     ]
    }
   ],
   "source": [
    "# get an entire column\n",
    "df['c'].print()"
   ]
  },
  {
   "cell_type": "code",
   "execution_count": 26,
   "metadata": {
    "collapsed": false
   },
   "outputs": [
    {
     "name": "stdout",
     "output_type": "stream",
     "text": [
      "  index    a    c\n",
      "-------  ---  ---\n",
      "     10  100    1\n",
      "     11    2    2\n",
      "     12   33    3\n",
      "     13   33    9\n"
     ]
    }
   ],
   "source": [
    "# get list of columns\n",
    "df[['a', 'c']].print()"
   ]
  },
  {
   "cell_type": "code",
   "execution_count": 27,
   "metadata": {
    "collapsed": false
   },
   "outputs": [
    {
     "name": "stdout",
     "output_type": "stream",
     "text": [
      "  index    b\n",
      "-------  ---\n",
      "     11   55\n",
      "     12   99\n",
      "     13   55\n"
     ]
    }
   ],
   "source": [
    "# get subset of the index\n",
    "df[[11, 12, 13], 'b'].print()"
   ]
  },
  {
   "cell_type": "code",
   "execution_count": 28,
   "metadata": {
    "collapsed": false
   },
   "outputs": [
    {
     "name": "stdout",
     "output_type": "stream",
     "text": [
      "  index    b\n",
      "-------  ---\n",
      "     11   55\n",
      "     12   99\n",
      "     13   55\n"
     ]
    }
   ],
   "source": [
    "# get using slices\n",
    "df[11:13, 'b'].print()"
   ]
  },
  {
   "cell_type": "code",
   "execution_count": 29,
   "metadata": {
    "collapsed": false
   },
   "outputs": [
    {
     "name": "stdout",
     "output_type": "stream",
     "text": [
      "  index    a    c\n",
      "-------  ---  ---\n",
      "     10  100    1\n",
      "     11    2    2\n"
     ]
    }
   ],
   "source": [
    "# get a matrix\n",
    "df[10:11, ['a', 'c']].print()"
   ]
  },
  {
   "cell_type": "markdown",
   "metadata": {},
   "source": [
    "Head and Tail\n",
    "-------------"
   ]
  },
  {
   "cell_type": "code",
   "execution_count": 30,
   "metadata": {
    "collapsed": false
   },
   "outputs": [
    {
     "name": "stdout",
     "output_type": "stream",
     "text": [
      "  index    a    b    c\n",
      "-------  ---  ---  ---\n",
      "     10  100   88    1\n",
      "     11    2   55    2\n"
     ]
    }
   ],
   "source": [
    "df.head(2).print()"
   ]
  },
  {
   "cell_type": "code",
   "execution_count": 31,
   "metadata": {
    "collapsed": false
   },
   "outputs": [
    {
     "name": "stdout",
     "output_type": "stream",
     "text": [
      "  index    a    b    c\n",
      "-------  ---  ---  ---\n",
      "     12   33   99    3\n",
      "     13   33   55    9\n"
     ]
    }
   ],
   "source": [
    "df.tail(2).print()"
   ]
  },
  {
   "cell_type": "markdown",
   "metadata": {},
   "source": [
    "Delete colunmns and rows\n",
    "------------------------"
   ]
  },
  {
   "cell_type": "code",
   "execution_count": 32,
   "metadata": {
    "collapsed": false
   },
   "outputs": [
    {
     "name": "stdout",
     "output_type": "stream",
     "text": [
      "  index    a    b    c\n",
      "-------  ---  ---  ---\n",
      "     11    2   55    2\n",
      "     12   33   99    3\n"
     ]
    }
   ],
   "source": [
    "df.delete_rows([10, 13])\n",
    "print(df)"
   ]
  },
  {
   "cell_type": "code",
   "execution_count": 33,
   "metadata": {
    "collapsed": false
   },
   "outputs": [
    {
     "name": "stdout",
     "output_type": "stream",
     "text": [
      "  index    a    c\n",
      "-------  ---  ---\n",
      "     11    2    2\n",
      "     12   33    3\n"
     ]
    }
   ],
   "source": [
    "df.delete_columns('b')\n",
    "print(df)"
   ]
  },
  {
   "cell_type": "markdown",
   "metadata": {},
   "source": [
    "Convert\n",
    "-------"
   ]
  },
  {
   "cell_type": "code",
   "execution_count": 34,
   "metadata": {
    "collapsed": false
   },
   "outputs": [
    {
     "data": {
      "text/plain": [
       "{'a': blist([2, 33]), 'c': blist([2, 3]), 'index': blist([11, 12])}"
      ]
     },
     "execution_count": 34,
     "metadata": {},
     "output_type": "execute_result"
    }
   ],
   "source": [
    "# return a dict\n",
    "df.to_dict()"
   ]
  },
  {
   "cell_type": "code",
   "execution_count": 35,
   "metadata": {
    "collapsed": false
   },
   "outputs": [
    {
     "data": {
      "text/plain": [
       "{'a': blist([2, 33]), 'c': blist([2, 3])}"
      ]
     },
     "execution_count": 35,
     "metadata": {},
     "output_type": "execute_result"
    }
   ],
   "source": [
    "# exclude the index\n",
    "df.to_dict(index=False)"
   ]
  },
  {
   "cell_type": "code",
   "execution_count": 36,
   "metadata": {
    "collapsed": false
   },
   "outputs": [
    {
     "data": {
      "text/plain": [
       "OrderedDict([('index', blist([11, 12])),\n",
       "             ('a', blist([2, 33])),\n",
       "             ('c', blist([2, 3]))])"
      ]
     },
     "execution_count": 36,
     "metadata": {},
     "output_type": "execute_result"
    }
   ],
   "source": [
    "# return an OrderedDict()\n",
    "df.to_dict(ordered=True)"
   ]
  },
  {
   "cell_type": "code",
   "execution_count": 37,
   "metadata": {
    "collapsed": false
   },
   "outputs": [
    {
     "data": {
      "text/plain": [
       "blist([2, 3])"
      ]
     },
     "execution_count": 37,
     "metadata": {},
     "output_type": "execute_result"
    }
   ],
   "source": [
    "# return a list of just one column\n",
    "df['c'].to_list()"
   ]
  },
  {
   "cell_type": "markdown",
   "metadata": {},
   "source": [
    "Sort by Index and Column\n",
    "------------------------"
   ]
  },
  {
   "cell_type": "code",
   "execution_count": 38,
   "metadata": {
    "collapsed": false
   },
   "outputs": [
    {
     "name": "stdout",
     "output_type": "stream",
     "text": [
      "  index    a    b\n",
      "-------  ---  ---\n",
      "     25    4    6\n",
      "     24    3    7\n",
      "     23    2    8\n",
      "     22    1    9\n"
     ]
    }
   ],
   "source": [
    "df = rc.DataFrame({'a': [4, 3, 2, 1], 'b': [6, 7, 8, 9]}, index=[25, 24, 23, 22])\n",
    "print(df)"
   ]
  },
  {
   "cell_type": "code",
   "execution_count": 39,
   "metadata": {
    "collapsed": false
   },
   "outputs": [
    {
     "name": "stdout",
     "output_type": "stream",
     "text": [
      "  index    a    b\n",
      "-------  ---  ---\n",
      "     22    1    9\n",
      "     23    2    8\n",
      "     24    3    7\n",
      "     25    4    6\n"
     ]
    }
   ],
   "source": [
    "# sort by index. Sorts are inplace\n",
    "df.sort_index()\n",
    "print(df)"
   ]
  },
  {
   "cell_type": "code",
   "execution_count": 40,
   "metadata": {
    "collapsed": false
   },
   "outputs": [
    {
     "name": "stdout",
     "output_type": "stream",
     "text": [
      "  index    a    b\n",
      "-------  ---  ---\n",
      "     25    4    6\n",
      "     24    3    7\n",
      "     23    2    8\n",
      "     22    1    9\n"
     ]
    }
   ],
   "source": [
    "# sort by column\n",
    "df.sort_columns('b')\n",
    "print(df)"
   ]
  },
  {
   "cell_type": "markdown",
   "metadata": {},
   "source": [
    "Append\n",
    "------"
   ]
  },
  {
   "cell_type": "code",
   "execution_count": 41,
   "metadata": {
    "collapsed": false
   },
   "outputs": [
    {
     "name": "stdout",
     "output_type": "stream",
     "text": [
      "  index    a    b\n",
      "-------  ---  ---\n",
      "      1    1    5\n",
      "      2    2    6\n"
     ]
    }
   ],
   "source": [
    "df1 = rc.DataFrame({'a': [1, 2], 'b': [5, 6]}, index=[1, 2])\n",
    "df1.print()"
   ]
  },
  {
   "cell_type": "code",
   "execution_count": 42,
   "metadata": {
    "collapsed": false
   },
   "outputs": [
    {
     "name": "stdout",
     "output_type": "stream",
     "text": [
      "  index    b    c\n",
      "-------  ---  ---\n",
      "      3    7   11\n",
      "      4    8   12\n"
     ]
    }
   ],
   "source": [
    "df2 = rc.DataFrame({'b': [7, 8], 'c': [11, 12]}, index=[3, 4])\n",
    "print(df2)"
   ]
  },
  {
   "cell_type": "code",
   "execution_count": 43,
   "metadata": {
    "collapsed": false
   },
   "outputs": [
    {
     "name": "stdout",
     "output_type": "stream",
     "text": [
      "  index    a    b    c\n",
      "-------  ---  ---  ---\n",
      "      1    1    5\n",
      "      2    2    6\n",
      "      3         7   11\n",
      "      4         8   12\n"
     ]
    }
   ],
   "source": [
    "df1.append(df2)\n",
    "print(df1)"
   ]
  },
  {
   "cell_type": "markdown",
   "metadata": {},
   "source": [
    "Math Methods\n",
    "------------"
   ]
  },
  {
   "cell_type": "code",
   "execution_count": 44,
   "metadata": {
    "collapsed": true
   },
   "outputs": [],
   "source": [
    "df = rc.DataFrame({'a': [1, 2, 3], 'b': [2, 8, 9]})"
   ]
  },
  {
   "cell_type": "code",
   "execution_count": 45,
   "metadata": {
    "collapsed": false
   },
   "outputs": [
    {
     "data": {
      "text/plain": [
       "[False, False, True]"
      ]
     },
     "execution_count": 45,
     "metadata": {},
     "output_type": "execute_result"
    }
   ],
   "source": [
    "# test for equality\n",
    "df.equality('a', value=3)"
   ]
  },
  {
   "cell_type": "code",
   "execution_count": 46,
   "metadata": {
    "collapsed": false
   },
   "outputs": [
    {
     "data": {
      "text/plain": [
       "[False, False]"
      ]
     },
     "execution_count": 46,
     "metadata": {},
     "output_type": "execute_result"
    }
   ],
   "source": [
    "# all math methods can operate on a subset of the index\n",
    "df.equality('b', indexes=[1, 2], value=2)"
   ]
  },
  {
   "cell_type": "code",
   "execution_count": 47,
   "metadata": {
    "collapsed": false
   },
   "outputs": [
    {
     "data": {
      "text/plain": [
       "[3, 10, 12]"
      ]
     },
     "execution_count": 47,
     "metadata": {},
     "output_type": "execute_result"
    }
   ],
   "source": [
    "# add two columns\n",
    "df.add('a', 'b')"
   ]
  },
  {
   "cell_type": "code",
   "execution_count": 48,
   "metadata": {
    "collapsed": false
   },
   "outputs": [
    {
     "data": {
      "text/plain": [
       "[1, 6, 6]"
      ]
     },
     "execution_count": 48,
     "metadata": {},
     "output_type": "execute_result"
    }
   ],
   "source": [
    "# subtract\n",
    "df.subtract('b', 'a')"
   ]
  },
  {
   "cell_type": "code",
   "execution_count": 49,
   "metadata": {
    "collapsed": false
   },
   "outputs": [
    {
     "data": {
      "text/plain": [
       "[2, 27]"
      ]
     },
     "execution_count": 49,
     "metadata": {},
     "output_type": "execute_result"
    }
   ],
   "source": [
    "# multiply\n",
    "df.multiply('a', 'b', [0, 2])"
   ]
  },
  {
   "cell_type": "code",
   "execution_count": 50,
   "metadata": {
    "collapsed": false
   },
   "outputs": [
    {
     "data": {
      "text/plain": [
       "[2.0, 4.0, 3.0]"
      ]
     },
     "execution_count": 50,
     "metadata": {},
     "output_type": "execute_result"
    }
   ],
   "source": [
    "# divide\n",
    "df.divide('b', 'a')"
   ]
  },
  {
   "cell_type": "markdown",
   "metadata": {
    "collapsed": true
   },
   "source": [
    "Multi-Index\n",
    "-----------\n",
    "Raccoon does not have true hierarchical mulit-index capabilities like Pandas, but attempts to mimic some of the capabilities with the use of tuples as the index. Raccoon does not provide any checking to make sure the indexes are all the same length or\n",
    "any other integrity checking."
   ]
  },
  {
   "cell_type": "code",
   "execution_count": 54,
   "metadata": {
    "collapsed": false
   },
   "outputs": [
    {
     "name": "stdout",
     "output_type": "stream",
     "text": [
      "index          a\n",
      "-----------  ---\n",
      "('a', 1, 3)    1\n",
      "('a', 1, 4)    2\n",
      "('a', 2, 3)    3\n",
      "('b', 1, 4)    4\n",
      "('b', 2, 1)    5\n",
      "('b', 3, 3)    6\n"
     ]
    }
   ],
   "source": [
    "tuples = [('a', 1, 3), ('a', 1, 4), ('a', 2, 3), ('b', 1, 4), ('b', 2, 1), ('b', 3, 3)]\n",
    "df = rc.DataFrame({'a': [1, 2, 3, 4, 5, 6]}, index=tuples)\n",
    "print(df)"
   ]
  },
  {
   "cell_type": "markdown",
   "metadata": {},
   "source": [
    "The select_index method works with tuples by allowing the * to act as a wild card for matching."
   ]
  },
  {
   "cell_type": "code",
   "execution_count": 53,
   "metadata": {
    "collapsed": false
   },
   "outputs": [
    {
     "data": {
      "text/plain": [
       "[True, True, True, False, False, False]"
      ]
     },
     "execution_count": 53,
     "metadata": {},
     "output_type": "execute_result"
    }
   ],
   "source": [
    "compare = ('a', None, None)\n",
    "df.select_index(compare)"
   ]
  },
  {
   "cell_type": "code",
   "execution_count": 55,
   "metadata": {
    "collapsed": false
   },
   "outputs": [
    {
     "data": {
      "text/plain": [
       "[True, False, True, False, False, False]"
      ]
     },
     "execution_count": 55,
     "metadata": {},
     "output_type": "execute_result"
    }
   ],
   "source": [
    "compare = ('a', None, 3)\n",
    "df.select_index(compare, 'boolean')"
   ]
  },
  {
   "cell_type": "code",
   "execution_count": 56,
   "metadata": {
    "collapsed": false
   },
   "outputs": [
    {
     "data": {
      "text/plain": [
       "[('a', 2, 3), ('b', 2, 1)]"
      ]
     },
     "execution_count": 56,
     "metadata": {},
     "output_type": "execute_result"
    }
   ],
   "source": [
    "compare = (None, 2, None)\n",
    "df.select_index(compare, 'value')"
   ]
  },
  {
   "cell_type": "code",
   "execution_count": 58,
   "metadata": {
    "collapsed": false
   },
   "outputs": [
    {
     "data": {
      "text/plain": [
       "[('a', 1, 3), ('a', 2, 3), ('b', 3, 3)]"
      ]
     },
     "execution_count": 58,
     "metadata": {},
     "output_type": "execute_result"
    }
   ],
   "source": [
    "compare = (None, None, 3)\n",
    "df.select_index(compare, 'value')"
   ]
  },
  {
   "cell_type": "code",
   "execution_count": 59,
   "metadata": {
    "collapsed": false
   },
   "outputs": [
    {
     "data": {
      "text/plain": [
       "[True, True, True, True, True, True]"
      ]
     },
     "execution_count": 59,
     "metadata": {},
     "output_type": "execute_result"
    }
   ],
   "source": [
    "compare = (None, None, None)\n",
    "df.select_index(compare)"
   ]
  },
  {
   "cell_type": "code",
   "execution_count": null,
   "metadata": {
    "collapsed": true
   },
   "outputs": [],
   "source": []
  }
 ],
 "metadata": {
  "kernelspec": {
   "display_name": "Python 3",
   "language": "python",
   "name": "python3"
  },
  "language_info": {
   "codemirror_mode": {
    "name": "ipython",
    "version": 3
   },
   "file_extension": ".py",
   "mimetype": "text/x-python",
   "name": "python",
   "nbconvert_exporter": "python",
   "pygments_lexer": "ipython3",
   "version": "3.4.4"
  }
 },
 "nbformat": 4,
 "nbformat_minor": 0
}
